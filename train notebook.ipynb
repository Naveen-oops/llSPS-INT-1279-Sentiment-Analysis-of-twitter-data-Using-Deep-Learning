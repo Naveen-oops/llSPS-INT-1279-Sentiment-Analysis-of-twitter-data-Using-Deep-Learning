{
 "cells": [
  {
   "cell_type": "code",
   "execution_count": 1,
   "metadata": {},
   "outputs": [],
   "source": [
    "import numpy as np\n",
    "import matplotlib.pyplot as plt\n",
    "import pandas as pd"
   ]
  },
  {
   "cell_type": "code",
   "execution_count": 2,
   "metadata": {},
   "outputs": [],
   "source": [
    "dataset = pd.read_csv('twitter data.csv')"
   ]
  },
  {
   "cell_type": "code",
   "execution_count": 3,
   "metadata": {},
   "outputs": [
    {
     "data": {
      "text/html": [
       "<div>\n",
       "<style scoped>\n",
       "    .dataframe tbody tr th:only-of-type {\n",
       "        vertical-align: middle;\n",
       "    }\n",
       "\n",
       "    .dataframe tbody tr th {\n",
       "        vertical-align: top;\n",
       "    }\n",
       "\n",
       "    .dataframe thead th {\n",
       "        text-align: right;\n",
       "    }\n",
       "</style>\n",
       "<table border=\"1\" class=\"dataframe\">\n",
       "  <thead>\n",
       "    <tr style=\"text-align: right;\">\n",
       "      <th></th>\n",
       "      <th>id</th>\n",
       "      <th>label</th>\n",
       "      <th>tweet</th>\n",
       "    </tr>\n",
       "  </thead>\n",
       "  <tbody>\n",
       "    <tr>\n",
       "      <td>0</td>\n",
       "      <td>1</td>\n",
       "      <td>0</td>\n",
       "      <td>@user when a father is dysfunctional and is s...</td>\n",
       "    </tr>\n",
       "    <tr>\n",
       "      <td>1</td>\n",
       "      <td>2</td>\n",
       "      <td>0</td>\n",
       "      <td>@user @user thanks for #lyft credit i can't us...</td>\n",
       "    </tr>\n",
       "    <tr>\n",
       "      <td>2</td>\n",
       "      <td>3</td>\n",
       "      <td>0</td>\n",
       "      <td>bihday your majesty</td>\n",
       "    </tr>\n",
       "    <tr>\n",
       "      <td>3</td>\n",
       "      <td>4</td>\n",
       "      <td>0</td>\n",
       "      <td>#model   i love u take with u all the time in ...</td>\n",
       "    </tr>\n",
       "    <tr>\n",
       "      <td>4</td>\n",
       "      <td>5</td>\n",
       "      <td>0</td>\n",
       "      <td>factsguide: society now    #motivation</td>\n",
       "    </tr>\n",
       "  </tbody>\n",
       "</table>\n",
       "</div>"
      ],
      "text/plain": [
       "   id  label                                              tweet\n",
       "0   1      0   @user when a father is dysfunctional and is s...\n",
       "1   2      0  @user @user thanks for #lyft credit i can't us...\n",
       "2   3      0                                bihday your majesty\n",
       "3   4      0  #model   i love u take with u all the time in ...\n",
       "4   5      0             factsguide: society now    #motivation"
      ]
     },
     "execution_count": 3,
     "metadata": {},
     "output_type": "execute_result"
    }
   ],
   "source": [
    "dataset.head()"
   ]
  },
  {
   "cell_type": "code",
   "execution_count": 4,
   "metadata": {},
   "outputs": [
    {
     "name": "stderr",
     "output_type": "stream",
     "text": [
      "[nltk_data] Downloading package stopwords to C:\\Users\\SIMON\n",
      "[nltk_data]     M.A\\AppData\\Roaming\\nltk_data...\n",
      "[nltk_data]   Package stopwords is already up-to-date!\n"
     ]
    }
   ],
   "source": [
    "import re\n",
    "import nltk\n",
    "nltk.download('stopwords')\n",
    "\n",
    "\n",
    "from nltk.corpus import stopwords\n",
    "from nltk.stem.porter import PorterStemmer\n",
    "ps = PorterStemmer()\n",
    "data=[]"
   ]
  },
  {
   "cell_type": "code",
   "execution_count": 5,
   "metadata": {},
   "outputs": [],
   "source": [
    "for i in range(0,31962):\n",
    "        review=dataset[\"tweet\"][i]\n",
    "        review = re.sub('[^a-zA-Z]', ' ', review)\n",
    "        review = review.lower()\n",
    "        review = review.split()\n",
    "        review = [ps.stem(word) for word in review if not word in set(stopwords.words('english'))]\n",
    "        review = ' '.join(review)\n",
    "        data.append(review)"
   ]
  },
  {
   "cell_type": "code",
   "execution_count": 6,
   "metadata": {},
   "outputs": [
    {
     "data": {
      "text/plain": [
       "['user father dysfunct selfish drag kid dysfunct run',\n",
       " 'user user thank lyft credit use caus offer wheelchair van pdx disapoint getthank',\n",
       " 'bihday majesti',\n",
       " 'model love u take u time ur',\n",
       " 'factsguid societi motiv']"
      ]
     },
     "execution_count": 6,
     "metadata": {},
     "output_type": "execute_result"
    }
   ],
   "source": [
    "data[:5]"
   ]
  },
  {
   "cell_type": "code",
   "execution_count": 7,
   "metadata": {},
   "outputs": [],
   "source": [
    "from sklearn.feature_extraction.text import CountVectorizer\n",
    "cv = CountVectorizer(max_features=1500)\n",
    "X = cv.fit_transform(data).toarray()\n",
    "y=dataset.iloc[:,1].values"
   ]
  },
  {
   "cell_type": "code",
   "execution_count": 8,
   "metadata": {},
   "outputs": [],
   "source": [
    "import pickle\n",
    "pickle.dump(cv, open(\"cv.pkl\", \"wb\"))"
   ]
  },
  {
   "cell_type": "code",
   "execution_count": 9,
   "metadata": {},
   "outputs": [],
   "source": [
    "from sklearn.model_selection import train_test_split\n",
    "X_train, X_test, y_train, y_test = train_test_split(X, y, test_size = 0.20, random_state = 0)"
   ]
  },
  {
   "cell_type": "code",
   "execution_count": 10,
   "metadata": {
    "scrolled": true
   },
   "outputs": [
    {
     "name": "stderr",
     "output_type": "stream",
     "text": [
      "Using TensorFlow backend.\n"
     ]
    }
   ],
   "source": [
    "import keras"
   ]
  },
  {
   "cell_type": "code",
   "execution_count": 11,
   "metadata": {},
   "outputs": [],
   "source": [
    "from keras.models import Sequential\n",
    "from keras.layers import Dense"
   ]
  },
  {
   "cell_type": "code",
   "execution_count": 12,
   "metadata": {},
   "outputs": [
    {
     "data": {
      "text/plain": [
       "(6393, 1500)"
      ]
     },
     "execution_count": 12,
     "metadata": {},
     "output_type": "execute_result"
    }
   ],
   "source": [
    "X_test.shape"
   ]
  },
  {
   "cell_type": "code",
   "execution_count": 13,
   "metadata": {
    "scrolled": true
   },
   "outputs": [
    {
     "name": "stderr",
     "output_type": "stream",
     "text": [
      "C:\\Users\\SIMON M.A\\Anaconda3\\lib\\site-packages\\ipykernel_launcher.py:5: UserWarning: Update your `Dense` call to the Keras 2 API: `Dense(activation=\"relu\", input_dim=1500, units=6, kernel_initializer=\"uniform\")`\n",
      "  \"\"\"\n",
      "C:\\Users\\SIMON M.A\\Anaconda3\\lib\\site-packages\\ipykernel_launcher.py:7: UserWarning: Update your `Dense` call to the Keras 2 API: `Dense(activation=\"relu\", units=6, kernel_initializer=\"uniform\")`\n",
      "  import sys\n",
      "C:\\Users\\SIMON M.A\\Anaconda3\\lib\\site-packages\\ipykernel_launcher.py:9: UserWarning: Update your `Dense` call to the Keras 2 API: `Dense(activation=\"sigmoid\", units=1, kernel_initializer=\"uniform\")`\n",
      "  if __name__ == '__main__':\n"
     ]
    }
   ],
   "source": [
    "model = Sequential()\n",
    "\n",
    "\n",
    "\n",
    "model.add(Dense(output_dim = 6, init = 'uniform', activation = 'relu', input_dim = 1500))\n",
    "\n",
    "model.add(Dense(output_dim = 6, init = 'uniform', activation = 'relu'))\n",
    "\n",
    "model.add(Dense(output_dim = 1, init = 'uniform', activation = 'sigmoid'))\n"
   ]
  },
  {
   "cell_type": "code",
   "execution_count": 14,
   "metadata": {},
   "outputs": [
    {
     "name": "stdout",
     "output_type": "stream",
     "text": [
      "WARNING:tensorflow:From C:\\Users\\SIMON M.A\\Anaconda3\\lib\\site-packages\\tensorflow\\python\\ops\\nn_impl.py:180: add_dispatch_support.<locals>.wrapper (from tensorflow.python.ops.array_ops) is deprecated and will be removed in a future version.\n",
      "Instructions for updating:\n",
      "Use tf.where in 2.0, which has the same broadcast rule as np.where\n"
     ]
    }
   ],
   "source": [
    "model.compile(optimizer = 'adam', loss = 'binary_crossentropy', metrics = ['accuracy'])"
   ]
  },
  {
   "cell_type": "code",
   "execution_count": 15,
   "metadata": {
    "scrolled": true
   },
   "outputs": [
    {
     "name": "stdout",
     "output_type": "stream",
     "text": [
      "WARNING:tensorflow:From C:\\Users\\SIMON M.A\\Anaconda3\\lib\\site-packages\\keras\\backend\\tensorflow_backend.py:422: The name tf.global_variables is deprecated. Please use tf.compat.v1.global_variables instead.\n",
      "\n",
      "Epoch 1/50\n",
      "25569/25569 [==============================] - 5s 185us/step - loss: 0.2866 - accuracy: 0.9276\n",
      "Epoch 2/50\n",
      "25569/25569 [==============================] - 4s 162us/step - loss: 0.1555 - accuracy: 0.9283\n",
      "Epoch 3/50\n",
      "25569/25569 [==============================] - 3s 126us/step - loss: 0.1348 - accuracy: 0.9403\n",
      "Epoch 4/50\n",
      "25569/25569 [==============================] - 3s 128us/step - loss: 0.1241 - accuracy: 0.9580\n",
      "Epoch 5/50\n",
      "25569/25569 [==============================] - 3s 116us/step - loss: 0.1163 - accuracy: 0.9603\n",
      "Epoch 6/50\n",
      "25569/25569 [==============================] - 3s 124us/step - loss: 0.1102 - accuracy: 0.9633\n",
      "Epoch 7/50\n",
      "25569/25569 [==============================] - 3s 123us/step - loss: 0.1052 - accuracy: 0.9651\n",
      "Epoch 8/50\n",
      "25569/25569 [==============================] - 3s 130us/step - loss: 0.1009 - accuracy: 0.9663\n",
      "Epoch 9/50\n",
      "25569/25569 [==============================] - 3s 127us/step - loss: 0.0975 - accuracy: 0.9679\n",
      "Epoch 10/50\n",
      "25569/25569 [==============================] - 3s 133us/step - loss: 0.0944 - accuracy: 0.9687\n",
      "Epoch 11/50\n",
      "25569/25569 [==============================] - 3s 133us/step - loss: 0.0914 - accuracy: 0.9701\n",
      "Epoch 12/50\n",
      "25569/25569 [==============================] - 3s 127us/step - loss: 0.0888 - accuracy: 0.9708\n",
      "Epoch 13/50\n",
      "25569/25569 [==============================] - 3s 127us/step - loss: 0.0861 - accuracy: 0.9716\n",
      "Epoch 14/50\n",
      "25569/25569 [==============================] - 3s 128us/step - loss: 0.0833 - accuracy: 0.9724\n",
      "Epoch 15/50\n",
      "25569/25569 [==============================] - 3s 128us/step - loss: 0.0811 - accuracy: 0.9732\n",
      "Epoch 16/50\n",
      "25569/25569 [==============================] - 3s 127us/step - loss: 0.0781 - accuracy: 0.9739\n",
      "Epoch 17/50\n",
      "25569/25569 [==============================] - 4s 139us/step - loss: 0.0757 - accuracy: 0.9754\n",
      "Epoch 18/50\n",
      "25569/25569 [==============================] - 3s 131us/step - loss: 0.0729 - accuracy: 0.9763\n",
      "Epoch 19/50\n",
      "25569/25569 [==============================] - 3s 127us/step - loss: 0.0703 - accuracy: 0.9770\n",
      "Epoch 20/50\n",
      "25569/25569 [==============================] - 3s 128us/step - loss: 0.0672 - accuracy: 0.9784\n",
      "Epoch 21/50\n",
      "25569/25569 [==============================] - 3s 125us/step - loss: 0.0643 - accuracy: 0.9792\n",
      "Epoch 22/50\n",
      "25569/25569 [==============================] - 3s 127us/step - loss: 0.0615 - accuracy: 0.9803\n",
      "Epoch 23/50\n",
      "25569/25569 [==============================] - 3s 131us/step - loss: 0.0585 - accuracy: 0.9809\n",
      "Epoch 24/50\n",
      "25569/25569 [==============================] - 3s 128us/step - loss: 0.0551 - accuracy: 0.9831\n",
      "Epoch 25/50\n",
      "25569/25569 [==============================] - 3s 129us/step - loss: 0.0524 - accuracy: 0.9835\n",
      "Epoch 26/50\n",
      "25569/25569 [==============================] - 3s 131us/step - loss: 0.0489 - accuracy: 0.9850\n",
      "Epoch 27/50\n",
      "25569/25569 [==============================] - 3s 126us/step - loss: 0.0461 - accuracy: 0.9861\n",
      "Epoch 28/50\n",
      "25569/25569 [==============================] - 3s 135us/step - loss: 0.0431 - accuracy: 0.9870\n",
      "Epoch 29/50\n",
      "25569/25569 [==============================] - 4s 173us/step - loss: 0.0401 - accuracy: 0.9880\n",
      "Epoch 30/50\n",
      "25569/25569 [==============================] - 3s 126us/step - loss: 0.0378 - accuracy: 0.9890\n",
      "Epoch 31/50\n",
      "25569/25569 [==============================] - 3s 137us/step - loss: 0.0352 - accuracy: 0.9901\n",
      "Epoch 32/50\n",
      "25569/25569 [==============================] - 3s 134us/step - loss: 0.0326 - accuracy: 0.9902\n",
      "Epoch 33/50\n",
      "25569/25569 [==============================] - 3s 128us/step - loss: 0.0304 - accuracy: 0.9911\n",
      "Epoch 34/50\n",
      "25569/25569 [==============================] - 4s 138us/step - loss: 0.0286 - accuracy: 0.9919\n",
      "Epoch 35/50\n",
      "25569/25569 [==============================] - 3s 130us/step - loss: 0.0266 - accuracy: 0.9924\n",
      "Epoch 36/50\n",
      "25569/25569 [==============================] - 4s 137us/step - loss: 0.0247 - accuracy: 0.9931\n",
      "Epoch 37/50\n",
      "25569/25569 [==============================] - 3s 136us/step - loss: 0.0230 - accuracy: 0.9935\n",
      "Epoch 38/50\n",
      "25569/25569 [==============================] - 4s 142us/step - loss: 0.0216 - accuracy: 0.9941\n",
      "Epoch 39/50\n",
      "25569/25569 [==============================] - 4s 138us/step - loss: 0.0206 - accuracy: 0.9944\n",
      "Epoch 40/50\n",
      "25569/25569 [==============================] - 4s 140us/step - loss: 0.0192 - accuracy: 0.9946\n",
      "Epoch 41/50\n",
      "25569/25569 [==============================] - 3s 136us/step - loss: 0.0183 - accuracy: 0.9952\n",
      "Epoch 42/50\n",
      "25569/25569 [==============================] - 4s 146us/step - loss: 0.0181 - accuracy: 0.9952\n",
      "Epoch 43/50\n",
      "25569/25569 [==============================] - 3s 134us/step - loss: 0.0172 - accuracy: 0.9958\n",
      "Epoch 44/50\n",
      "25569/25569 [==============================] - 4s 153us/step - loss: 0.0164 - accuracy: 0.9957\n",
      "Epoch 45/50\n",
      "25569/25569 [==============================] - 4s 139us/step - loss: 0.0160 - accuracy: 0.9957\n",
      "Epoch 46/50\n",
      "25569/25569 [==============================] - 4s 140us/step - loss: 0.0157 - accuracy: 0.9957\n",
      "Epoch 47/50\n",
      "25569/25569 [==============================] - 3s 135us/step - loss: 0.0154 - accuracy: 0.9959\n",
      "Epoch 48/50\n",
      "25569/25569 [==============================] - 4s 141us/step - loss: 0.0147 - accuracy: 0.9962\n",
      "Epoch 49/50\n",
      "25569/25569 [==============================] - 3s 136us/step - loss: 0.0146 - accuracy: 0.9962\n",
      "Epoch 50/50\n",
      "25569/25569 [==============================] - 4s 139us/step - loss: 0.0142 - accuracy: 0.9959\n"
     ]
    },
    {
     "data": {
      "text/plain": [
       "<keras.callbacks.callbacks.History at 0x1d8f88d3188>"
      ]
     },
     "execution_count": 15,
     "metadata": {},
     "output_type": "execute_result"
    }
   ],
   "source": [
    "model.fit(X_train,y_train,batch_size=32,epochs=50)"
   ]
  },
  {
   "cell_type": "code",
   "execution_count": 16,
   "metadata": {},
   "outputs": [],
   "source": [
    "model.save('mymodel.h5')"
   ]
  },
  {
   "cell_type": "code",
   "execution_count": null,
   "metadata": {},
   "outputs": [],
   "source": []
  },
  {
   "cell_type": "code",
   "execution_count": null,
   "metadata": {},
   "outputs": [],
   "source": []
  },
  {
   "cell_type": "code",
   "execution_count": null,
   "metadata": {},
   "outputs": [],
   "source": []
  },
  {
   "cell_type": "code",
   "execution_count": null,
   "metadata": {},
   "outputs": [],
   "source": []
  }
 ],
 "metadata": {
  "kernelspec": {
   "display_name": "Python 3",
   "language": "python",
   "name": "python3"
  },
  "language_info": {
   "codemirror_mode": {
    "name": "ipython",
    "version": 3
   },
   "file_extension": ".py",
   "mimetype": "text/x-python",
   "name": "python",
   "nbconvert_exporter": "python",
   "pygments_lexer": "ipython3",
   "version": "3.7.4"
  }
 },
 "nbformat": 4,
 "nbformat_minor": 4
}
